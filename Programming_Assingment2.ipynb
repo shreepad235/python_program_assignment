{
 "cells": [
  {
   "cell_type": "code",
   "execution_count": 18,
   "id": "e3cbbb52-60f6-44cd-8cb7-a6cb2625372c",
   "metadata": {},
   "outputs": [
    {
     "name": "stdin",
     "output_type": "stream",
     "text": [
      "Enter the distance in Kilometers 1.5\n"
     ]
    },
    {
     "name": "stdout",
     "output_type": "stream",
     "text": [
      "0.9315\n"
     ]
    }
   ],
   "source": [
    "#1.\tWrite a Python program to convert kilometers to miles\n",
    "kilometers=float(input(\"Enter the distance in Kilometers\"))\n",
    "miles=kilometers*0.621\n",
    "print(miles)"
   ]
  },
  {
   "cell_type": "code",
   "execution_count": 3,
   "id": "0dc88c21-a7b6-4f0e-a105-e1296c7fc708",
   "metadata": {},
   "outputs": [
    {
     "name": "stdin",
     "output_type": "stream",
     "text": [
      "Enetr the temperature in celsius 33\n"
     ]
    },
    {
     "name": "stdout",
     "output_type": "stream",
     "text": [
      "91.4\n"
     ]
    }
   ],
   "source": [
    "#2.\tWrite a Python program to convert Celsius to Fahrenheit?\n",
    "celsius=float(input(\"Enetr the temperature in celsius\"))\n",
    "Farenheit=(celsius*9/5)+32\n",
    "print(Farenheit)"
   ]
  },
  {
   "cell_type": "code",
   "execution_count": 9,
   "id": "26159dd4-3d86-471d-9c7a-c7d052f5bc5c",
   "metadata": {},
   "outputs": [
    {
     "name": "stdin",
     "output_type": "stream",
     "text": [
      "Enter the year 2024\n",
      "Enter the month 1\n"
     ]
    },
    {
     "name": "stdout",
     "output_type": "stream",
     "text": [
      "    January 2024\n",
      "Mo Tu We Th Fr Sa Su\n",
      " 1  2  3  4  5  6  7\n",
      " 8  9 10 11 12 13 14\n",
      "15 16 17 18 19 20 21\n",
      "22 23 24 25 26 27 28\n",
      "29 30 31\n",
      "\n"
     ]
    }
   ],
   "source": [
    "# 3.Write a Python program to display calendar?\n",
    "import calendar\n",
    "year=int(input(\"Enter the year\"))\n",
    "month=int(input(\"Enter the month\"))\n",
    "print(calendar.month(year,month))"
   ]
  },
  {
   "cell_type": "code",
   "execution_count": 21,
   "id": "9c4881f5-4e12-4a0f-a8a2-a7a6cc3ceb5a",
   "metadata": {},
   "outputs": [
    {
     "name": "stdin",
     "output_type": "stream",
     "text": [
      "Enter the value of a: 1\n",
      "Enter the value of b: 5\n",
      "Enter the value of c: 6\n"
     ]
    },
    {
     "name": "stdout",
     "output_type": "stream",
     "text": [
      "(-3+0j)\n",
      "(-2+0j)\n",
      "1.0\n"
     ]
    }
   ],
   "source": [
    "#4.\tWrite a Python program to solve quadratic equation?\n",
    "import cmath\n",
    "a=float(input(\"Enter the value of a:\"))\n",
    "b=float(input(\"Enter the value of b:\"))\n",
    "c=float(input(\"Enter the value of c:\"))\n",
    "d=(b**2)-(4*a*c)\n",
    "solution1=(-b-cmath.sqrt(d))/2*a\n",
    "solution2=(-b+cmath.sqrt(d))/2*a\n",
    "print(solution1)\n",
    "print(solution2)\n",
    "print(d)"
   ]
  },
  {
   "cell_type": "code",
   "execution_count": 23,
   "id": "668040ba-33d0-4891-aec9-41d7e191004e",
   "metadata": {},
   "outputs": [
    {
     "name": "stdin",
     "output_type": "stream",
     "text": [
      "Enter value of x: 1\n",
      "Enter value of y: 2\n"
     ]
    },
    {
     "name": "stdout",
     "output_type": "stream",
     "text": [
      "value of x is: 2\n",
      "value of y is: 1\n"
     ]
    }
   ],
   "source": [
    "## 5.Write a Python program to swap two variables without temp variable?\n",
    "\n",
    "x=input(\"Enter value of x:\")\n",
    "y=input(\"Enter value of y:\")\n",
    "x,y=y,x\n",
    "print(\"value of x is:\",x)\n",
    "print(\"value of y is:\",y)"
   ]
  },
  {
   "cell_type": "code",
   "execution_count": null,
   "id": "9d7b61a3-e3c9-4a12-9e55-0fb649dd8736",
   "metadata": {},
   "outputs": [],
   "source": []
  }
 ],
 "metadata": {
  "kernelspec": {
   "display_name": "Python 3 (ipykernel)",
   "language": "python",
   "name": "python3"
  },
  "language_info": {
   "codemirror_mode": {
    "name": "ipython",
    "version": 3
   },
   "file_extension": ".py",
   "mimetype": "text/x-python",
   "name": "python",
   "nbconvert_exporter": "python",
   "pygments_lexer": "ipython3",
   "version": "3.10.6"
  }
 },
 "nbformat": 4,
 "nbformat_minor": 5
}
